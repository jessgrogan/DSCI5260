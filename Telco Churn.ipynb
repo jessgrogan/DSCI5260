{
 "cells": [
  {
   "cell_type": "markdown",
   "metadata": {},
   "source": [
    "# Telco Churn Analysis\n",
    "## Jessica Grogan, Fawad Chohan, and Rojalini Dash"
   ]
  },
  {
   "cell_type": "markdown",
   "metadata": {},
   "source": [
    "Here is where we import pandas, numpy, and matplotlib.  These are python packages we will use to analyze the data."
   ]
  },
  {
   "cell_type": "code",
   "execution_count": 10,
   "metadata": {},
   "outputs": [],
   "source": [
    "import pandas as pd\n",
    "import matplotlib.pyplot as plt\n",
    "import numpy as np"
   ]
  },
  {
   "cell_type": "markdown",
   "metadata": {},
   "source": [
    "This is to read in the data from the excel file"
   ]
  },
  {
   "cell_type": "code",
   "execution_count": 35,
   "metadata": {},
   "outputs": [],
   "source": [
    "df = pd.read_excel(\"Data/Telco_customer_churn.xlsx\")"
   ]
  },
  {
   "cell_type": "code",
   "execution_count": 37,
   "metadata": {},
   "outputs": [
    {
     "data": {
      "text/plain": [
       "Churn Reason\n",
       "Attitude of service provider                 1\n",
       "Attitude of support person                   1\n",
       "Competitor had better devices                1\n",
       "Competitor made better offer                 1\n",
       "Competitor offered higher download speeds    1\n",
       "Competitor offered more data                 1\n",
       "Deceased                                     1\n",
       "Don't know                                   1\n",
       "Extra data charges                           1\n",
       "Lack of affordable download/upload speed     1\n",
       "Lack of self-service on Website              1\n",
       "Limited range of services                    1\n",
       "Long distance charges                        1\n",
       "Moved                                        1\n",
       "Network reliability                          1\n",
       "No churn                                     0\n",
       "Poor expertise of online support             1\n",
       "Poor expertise of phone support              1\n",
       "Price too high                               1\n",
       "Product dissatisfaction                      1\n",
       "Service dissatisfaction                      1\n",
       "Name: Churn Value, dtype: int64"
      ]
     },
     "execution_count": 37,
     "metadata": {},
     "output_type": "execute_result"
    }
   ],
   "source": [
    "df[\"Churn Reason\"] = df[\"Churn Reason\"].fillna(\"No churn\")\n",
    "df.groupby(\"Churn Reason\")[\"Churn Value\"].mean()"
   ]
  },
  {
   "cell_type": "markdown",
   "metadata": {},
   "source": [
    "This is a view of all the headers and data types in the Telco Customer Churn file."
   ]
  },
  {
   "cell_type": "code",
   "execution_count": 72,
   "metadata": {
    "scrolled": true
   },
   "outputs": [
    {
     "name": "stdout",
     "output_type": "stream",
     "text": [
      "<class 'pandas.core.frame.DataFrame'>\n",
      "RangeIndex: 7043 entries, 0 to 7042\n",
      "Data columns (total 34 columns):\n",
      " #   Column             Non-Null Count  Dtype  \n",
      "---  ------             --------------  -----  \n",
      " 0   CustomerID         7043 non-null   object \n",
      " 1   Count              7043 non-null   int64  \n",
      " 2   Country            7043 non-null   object \n",
      " 3   State              7043 non-null   object \n",
      " 4   City               7043 non-null   object \n",
      " 5   Zip Code           7043 non-null   int64  \n",
      " 6   Lat Long           7043 non-null   object \n",
      " 7   Latitude           7043 non-null   float64\n",
      " 8   Longitude          7043 non-null   float64\n",
      " 9   Gender             7043 non-null   object \n",
      " 10  Senior Citizen     7043 non-null   object \n",
      " 11  Partner            7043 non-null   object \n",
      " 12  Dependents         7043 non-null   object \n",
      " 13  Tenure Months      7043 non-null   int64  \n",
      " 14  Phone Service      7043 non-null   object \n",
      " 15  Multiple Lines     7043 non-null   object \n",
      " 16  Internet Service   7043 non-null   object \n",
      " 17  Online Security    7043 non-null   object \n",
      " 18  Online Backup      7043 non-null   object \n",
      " 19  Device Protection  7043 non-null   object \n",
      " 20  Tech Support       7043 non-null   object \n",
      " 21  Streaming TV       7043 non-null   object \n",
      " 22  Streaming Movies   7043 non-null   object \n",
      " 23  Contract           7043 non-null   object \n",
      " 24  Paperless Billing  7043 non-null   object \n",
      " 25  Payment Method     7043 non-null   object \n",
      " 26  Monthly Charges    7043 non-null   float64\n",
      " 27  Total Charges      7043 non-null   object \n",
      " 28  Churn Label        7043 non-null   object \n",
      " 29  Churn Value        7043 non-null   int64  \n",
      " 30  Churn Score        7043 non-null   int64  \n",
      " 31  CLTV               7043 non-null   int64  \n",
      " 32  Churn Reason       7043 non-null   object \n",
      " 33  Churn Type         7043 non-null   object \n",
      "dtypes: float64(3), int64(6), object(25)\n",
      "memory usage: 1.8+ MB\n"
     ]
    }
   ],
   "source": [
    "df.info()"
   ]
  },
  {
   "cell_type": "markdown",
   "metadata": {},
   "source": [
    "This gives us a view of the first 3 rows to help visualize what the table looks like."
   ]
  },
  {
   "cell_type": "code",
   "execution_count": 13,
   "metadata": {},
   "outputs": [
    {
     "data": {
      "text/html": [
       "<div>\n",
       "<style scoped>\n",
       "    .dataframe tbody tr th:only-of-type {\n",
       "        vertical-align: middle;\n",
       "    }\n",
       "\n",
       "    .dataframe tbody tr th {\n",
       "        vertical-align: top;\n",
       "    }\n",
       "\n",
       "    .dataframe thead th {\n",
       "        text-align: right;\n",
       "    }\n",
       "</style>\n",
       "<table border=\"1\" class=\"dataframe\">\n",
       "  <thead>\n",
       "    <tr style=\"text-align: right;\">\n",
       "      <th></th>\n",
       "      <th>CustomerID</th>\n",
       "      <th>Count</th>\n",
       "      <th>Country</th>\n",
       "      <th>State</th>\n",
       "      <th>City</th>\n",
       "      <th>Zip Code</th>\n",
       "      <th>Lat Long</th>\n",
       "      <th>Latitude</th>\n",
       "      <th>Longitude</th>\n",
       "      <th>Gender</th>\n",
       "      <th>...</th>\n",
       "      <th>Contract</th>\n",
       "      <th>Paperless Billing</th>\n",
       "      <th>Payment Method</th>\n",
       "      <th>Monthly Charges</th>\n",
       "      <th>Total Charges</th>\n",
       "      <th>Churn Label</th>\n",
       "      <th>Churn Value</th>\n",
       "      <th>Churn Score</th>\n",
       "      <th>CLTV</th>\n",
       "      <th>Churn Reason</th>\n",
       "    </tr>\n",
       "  </thead>\n",
       "  <tbody>\n",
       "    <tr>\n",
       "      <th>0</th>\n",
       "      <td>3668-QPYBK</td>\n",
       "      <td>1</td>\n",
       "      <td>United States</td>\n",
       "      <td>California</td>\n",
       "      <td>Los Angeles</td>\n",
       "      <td>90003</td>\n",
       "      <td>33.964131, -118.272783</td>\n",
       "      <td>33.964131</td>\n",
       "      <td>-118.272783</td>\n",
       "      <td>Male</td>\n",
       "      <td>...</td>\n",
       "      <td>Month-to-month</td>\n",
       "      <td>Yes</td>\n",
       "      <td>Mailed check</td>\n",
       "      <td>53.85</td>\n",
       "      <td>108.15</td>\n",
       "      <td>Yes</td>\n",
       "      <td>1</td>\n",
       "      <td>86</td>\n",
       "      <td>3239</td>\n",
       "      <td>Competitor made better offer</td>\n",
       "    </tr>\n",
       "    <tr>\n",
       "      <th>1</th>\n",
       "      <td>9237-HQITU</td>\n",
       "      <td>1</td>\n",
       "      <td>United States</td>\n",
       "      <td>California</td>\n",
       "      <td>Los Angeles</td>\n",
       "      <td>90005</td>\n",
       "      <td>34.059281, -118.30742</td>\n",
       "      <td>34.059281</td>\n",
       "      <td>-118.307420</td>\n",
       "      <td>Female</td>\n",
       "      <td>...</td>\n",
       "      <td>Month-to-month</td>\n",
       "      <td>Yes</td>\n",
       "      <td>Electronic check</td>\n",
       "      <td>70.70</td>\n",
       "      <td>151.65</td>\n",
       "      <td>Yes</td>\n",
       "      <td>1</td>\n",
       "      <td>67</td>\n",
       "      <td>2701</td>\n",
       "      <td>Moved</td>\n",
       "    </tr>\n",
       "    <tr>\n",
       "      <th>2</th>\n",
       "      <td>9305-CDSKC</td>\n",
       "      <td>1</td>\n",
       "      <td>United States</td>\n",
       "      <td>California</td>\n",
       "      <td>Los Angeles</td>\n",
       "      <td>90006</td>\n",
       "      <td>34.048013, -118.293953</td>\n",
       "      <td>34.048013</td>\n",
       "      <td>-118.293953</td>\n",
       "      <td>Female</td>\n",
       "      <td>...</td>\n",
       "      <td>Month-to-month</td>\n",
       "      <td>Yes</td>\n",
       "      <td>Electronic check</td>\n",
       "      <td>99.65</td>\n",
       "      <td>820.5</td>\n",
       "      <td>Yes</td>\n",
       "      <td>1</td>\n",
       "      <td>86</td>\n",
       "      <td>5372</td>\n",
       "      <td>Moved</td>\n",
       "    </tr>\n",
       "  </tbody>\n",
       "</table>\n",
       "<p>3 rows × 33 columns</p>\n",
       "</div>"
      ],
      "text/plain": [
       "   CustomerID  Count        Country       State         City  Zip Code  \\\n",
       "0  3668-QPYBK      1  United States  California  Los Angeles     90003   \n",
       "1  9237-HQITU      1  United States  California  Los Angeles     90005   \n",
       "2  9305-CDSKC      1  United States  California  Los Angeles     90006   \n",
       "\n",
       "                 Lat Long   Latitude   Longitude  Gender  ...        Contract  \\\n",
       "0  33.964131, -118.272783  33.964131 -118.272783    Male  ...  Month-to-month   \n",
       "1   34.059281, -118.30742  34.059281 -118.307420  Female  ...  Month-to-month   \n",
       "2  34.048013, -118.293953  34.048013 -118.293953  Female  ...  Month-to-month   \n",
       "\n",
       "  Paperless Billing    Payment Method  Monthly Charges Total Charges  \\\n",
       "0               Yes      Mailed check            53.85        108.15   \n",
       "1               Yes  Electronic check            70.70        151.65   \n",
       "2               Yes  Electronic check            99.65         820.5   \n",
       "\n",
       "  Churn Label Churn Value Churn Score  CLTV                  Churn Reason  \n",
       "0         Yes           1          86  3239  Competitor made better offer  \n",
       "1         Yes           1          67  2701                         Moved  \n",
       "2         Yes           1          86  5372                         Moved  \n",
       "\n",
       "[3 rows x 33 columns]"
      ]
     },
     "execution_count": 13,
     "metadata": {},
     "output_type": "execute_result"
    }
   ],
   "source": [
    "df.head(3)"
   ]
  },
  {
   "cell_type": "markdown",
   "metadata": {},
   "source": [
    "This is a count of the Churn Reason sorted greatest to least."
   ]
  },
  {
   "cell_type": "code",
   "execution_count": 14,
   "metadata": {
    "scrolled": true
   },
   "outputs": [
    {
     "data": {
      "text/plain": [
       "Churn Reason\n",
       "Attitude of support person                   192\n",
       "Competitor offered higher download speeds    189\n",
       "Competitor offered more data                 162\n",
       "Don't know                                   154\n",
       "Competitor made better offer                 140\n",
       "Attitude of service provider                 135\n",
       "Competitor had better devices                130\n",
       "Network reliability                          103\n",
       "Product dissatisfaction                      102\n",
       "Price too high                                98\n",
       "Service dissatisfaction                       89\n",
       "Lack of self-service on Website               88\n",
       "Extra data charges                            57\n",
       "Moved                                         53\n",
       "Limited range of services                     44\n",
       "Long distance charges                         44\n",
       "Lack of affordable download/upload speed      44\n",
       "Poor expertise of phone support               20\n",
       "Poor expertise of online support              19\n",
       "Deceased                                       6\n",
       "Name: Churn Reason, dtype: int64"
      ]
     },
     "execution_count": 14,
     "metadata": {},
     "output_type": "execute_result"
    }
   ],
   "source": [
    "df.groupby(\"Churn Reason\")[\"Churn Reason\"].count().sort_values(ascending=False)\n"
   ]
  },
  {
   "cell_type": "markdown",
   "metadata": {},
   "source": [
    "This is where we will classify the Churn Reasons into categories - preventable vs non-preventable and then break the preventable items out into categories of \"Customer Service\", \"Network\", \"Pricing\", and \"Competition\" "
   ]
  },
  {
   "cell_type": "code",
   "execution_count": 15,
   "metadata": {},
   "outputs": [
    {
     "data": {
      "text/plain": [
       "array(['Competitor made better offer', 'Moved',\n",
       "       'Competitor had better devices',\n",
       "       'Competitor offered higher download speeds',\n",
       "       'Competitor offered more data', 'Price too high',\n",
       "       'Product dissatisfaction', 'Service dissatisfaction',\n",
       "       'Lack of self-service on Website', 'Network reliability',\n",
       "       'Limited range of services',\n",
       "       'Lack of affordable download/upload speed',\n",
       "       'Long distance charges', 'Extra data charges', \"Don't know\",\n",
       "       'Poor expertise of online support',\n",
       "       'Poor expertise of phone support', 'Attitude of service provider',\n",
       "       'Attitude of support person', 'Deceased', nan], dtype=object)"
      ]
     },
     "execution_count": 15,
     "metadata": {},
     "output_type": "execute_result"
    }
   ],
   "source": [
    "df.loc[\"Churn Reason\"].unique()"
   ]
  },
  {
   "cell_type": "markdown",
   "metadata": {},
   "source": [
    "This is where we define the dictionary for the \"buckets\" we chose for Churn reason."
   ]
  },
  {
   "cell_type": "code",
   "execution_count": 78,
   "metadata": {},
   "outputs": [],
   "source": [
    "from collections import defaultdict\n",
    "def def_return():\n",
    "    return \"Other\"\n",
    "churn_types = defaultdict(def_return)\n",
    "old = {\n",
    "    \"Competitor made better offer\":\"Competition\",\n",
    "    \"Competitor had better devices\":\"Competition\",\n",
    "    \"Competitor offered higher download speeds\":\"Competition\",\n",
    "    \"Competitor offered more data\":\"Competition\",\n",
    "    \"Price too high\":\"Pricing\",\n",
    "    \"Lack of affordable download/upload speed\":\"Pricing\",\n",
    "    \"Long distance charges\":\"Pricing\",\n",
    "    \"Extra data charges\":\"Pricing\",\n",
    "    \"Service dissatisfaction\":\"Network\",\n",
    "    \"Product dissatisfaction\":\"Network\",\n",
    "    \"Lack of self-service on Website\":\"Network\",\n",
    "    \"Network reliability\":\"Network\",\n",
    "    \"Limited range of services\":\"Network\",\n",
    "    \"Poor expertise of online support\":\"Customer care\",\n",
    "    \"Poor expertise of phone support\":\"Customer care\",\n",
    "    \"Attitude of service provider\":\"Customer care\",\n",
    "    \"Attitude of support person\":\"Customer care\",\n",
    "    \"Moved\":\"non-preventable\",\n",
    "    \"Deceased\":\"non-preventable\",\n",
    "    \"Don't know\":\"non-preventable\"}\n",
    "\n",
    "for k, v in old.items():\n",
    "    churn_types[k] = v"
   ]
  },
  {
   "cell_type": "code",
   "execution_count": 68,
   "metadata": {
    "scrolled": true
   },
   "outputs": [
    {
     "data": {
      "text/plain": [
       "Churn Type\n",
       "Competition        1\n",
       "Customer care      1\n",
       "Network            1\n",
       "Other              0\n",
       "Pricing            1\n",
       "non-preventable    1\n",
       "Name: Churn Value, dtype: int64"
      ]
     },
     "execution_count": 68,
     "metadata": {},
     "output_type": "execute_result"
    }
   ],
   "source": [
    "df[\"Churn Type\"] = df[\"Churn Reason\"].map(churn_types, na_action=\"ignore\")\n",
    "df.groupby(\"Churn Type\")[\"Churn Value\"].mean()"
   ]
  },
  {
   "cell_type": "markdown",
   "metadata": {},
   "source": [
    "This is a count of the Churn Type.  \"Other\" indicates the customer did not Churn."
   ]
  },
  {
   "cell_type": "code",
   "execution_count": 81,
   "metadata": {
    "scrolled": true
   },
   "outputs": [
    {
     "data": {
      "text/plain": [
       "Churn Type\n",
       "Competition         621\n",
       "Customer care       366\n",
       "Network             426\n",
       "Other              5174\n",
       "Pricing             243\n",
       "non-preventable     213\n",
       "Name: Churn Type, dtype: int64"
      ]
     },
     "execution_count": 81,
     "metadata": {},
     "output_type": "execute_result"
    }
   ],
   "source": [
    "df.groupby(\"Churn Type\")[\"Churn Type\"].count()"
   ]
  },
  {
   "cell_type": "markdown",
   "metadata": {},
   "source": [
    "This is a chart of the mean Churn Score compared to Tenure Months."
   ]
  },
  {
   "cell_type": "code",
   "execution_count": 71,
   "metadata": {
    "scrolled": true
   },
   "outputs": [
    {
     "data": {
      "text/plain": [
       "<AxesSubplot:xlabel='Tenure Months'>"
      ]
     },
     "execution_count": 71,
     "metadata": {},
     "output_type": "execute_result"
    },
    {
     "data": {
      "image/png": "[encoded data removed]",
      "text/plain": [
       "<Figure size 432x288 with 1 Axes>"
      ]
     },
     "metadata": {
      "needs_background": "light"
     },
     "output_type": "display_data"
    }
   ],
   "source": [
    "mean_churn_tenure = df.groupby(\"Tenure Months\")[\"Churn Score\"].mean()\n",
    "mean_churn_tenure.plot.line(\"mean_churn_tenure\",\"Tenure Months\")"
   ]
  },
  {
   "cell_type": "code",
   "execution_count": null,
   "metadata": {},
   "outputs": [],
   "source": []
  }
 ],
 "metadata": {
  "kernelspec": {
   "display_name": "Python 3",
   "language": "python",
   "name": "python3"
  },
  "language_info": {
   "codemirror_mode": {
    "name": "ipython",
    "version": 3
   },
   "file_extension": ".py",
   "mimetype": "text/x-python",
   "name": "python",
   "nbconvert_exporter": "python",
   "pygments_lexer": "ipython3",
   "version": "3.8.5"
  }
 },
 "nbformat": 4,
 "nbformat_minor": 4
}
